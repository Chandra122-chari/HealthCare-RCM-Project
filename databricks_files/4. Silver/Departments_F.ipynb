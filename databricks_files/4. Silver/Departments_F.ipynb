{
 "cells": [
  {
   "cell_type": "code",
   "execution_count": 0,
   "metadata": {
    "application/vnd.databricks.v1+cell": {
     "cellMetadata": {
      "byteLimit": 2048000,
      "rowLimit": 10000
     },
     "inputWidgets": {},
     "nuid": "207118e7-0e88-4922-99c1-e32af1732efd",
     "showTitle": false,
     "tableResultSettingsMap": {},
     "title": ""
    }
   },
   "outputs": [],
   "source": [
    "from pyspark.sql import SparkSession, functions as f\n",
    "\n",
    "df_hosa = spark.read.parquet(\"/mnt/bronze/hosa/departments\")\n",
    "\n",
    "df_hosb = spark.read.parquet(\"/mnt/bronze/hosb/departments\")\n",
    "\n",
    "df_merged = df_hosa.unionByName(df_hosb)\n",
    "\n",
    "df_merged = df_merged.withColumn(\"SRC_Dept_id\", f.col(\"deptid\"))\\\n",
    "    .withColumn(\"Dept_id\",f.concat(f.col(\"SRC_Dept_id\"), f.lit(\"-\"), f.col(\"deptid\")))\\\n",
    "        .drop(\"deptid\")\n",
    "\n",
    "df_merged.createOrReplaceTempView(\"deparments\")\n",
    "\n",
    "display(df_merged)"
   ]
  },
  {
   "cell_type": "code",
   "execution_count": 0,
   "metadata": {
    "application/vnd.databricks.v1+cell": {
     "cellMetadata": {
      "byteLimit": 2048000,
      "implicitDf": true,
      "rowLimit": 10000
     },
     "inputWidgets": {},
     "nuid": "db3bd935-575a-40ab-b588-7461c6956815",
     "showTitle": false,
     "tableResultSettingsMap": {},
     "title": ""
    }
   },
   "outputs": [],
   "source": [
    "%sql\n",
    "CREATE SCHEMA IF NOT EXISTS `hrcm-data-catalog`.silver;\n",
    "\n",
    "CREATE TABLE IF NOT EXISTS `hrcm-data-catalog`.silver.departments(\n",
    "  Dept_id string,\n",
    "  SRC_Dept_id string,\n",
    "  Name string,\n",
    "  Datasource string,\n",
    "  is_quarantined boolean\n",
    ")\n",
    "USING DELTA;"
   ]
  },
  {
   "cell_type": "code",
   "execution_count": 0,
   "metadata": {
    "application/vnd.databricks.v1+cell": {
     "cellMetadata": {
      "byteLimit": 2048000,
      "implicitDf": true,
      "rowLimit": 10000
     },
     "inputWidgets": {},
     "nuid": "566ca3f7-440e-4d61-a80e-39f921d197bf",
     "showTitle": false,
     "tableResultSettingsMap": {},
     "title": ""
    }
   },
   "outputs": [],
   "source": [
    "%sql \n",
    "TRUNCATE TABLE `hrcm-data-catalog`.silver.departments;"
   ]
  },
  {
   "cell_type": "code",
   "execution_count": 0,
   "metadata": {
    "application/vnd.databricks.v1+cell": {
     "cellMetadata": {
      "byteLimit": 2048000,
      "implicitDf": true,
      "rowLimit": 10000
     },
     "inputWidgets": {},
     "nuid": "494f5fa9-9e4e-4549-ac1f-fc81752963dd",
     "showTitle": false,
     "tableResultSettingsMap": {},
     "title": ""
    }
   },
   "outputs": [],
   "source": [
    "%sql\n",
    "INSERT INTO `hrcm-data-catalog`.silver.departments\n",
    "SELECT\n",
    "Dept_id,\n",
    "SRC_Dept_id,\n",
    "Name,\n",
    "datasource,\n",
    "CASE WHEN SRC_Dept_id IS NULL OR Name IS NULL  THEN TRUE ELSE FALSE END AS is_quarantined \n",
    "FROM deparments;\n"
   ]
  },
  {
   "cell_type": "code",
   "execution_count": 0,
   "metadata": {
    "application/vnd.databricks.v1+cell": {
     "cellMetadata": {
      "byteLimit": 2048000,
      "implicitDf": true,
      "rowLimit": 10000
     },
     "inputWidgets": {},
     "nuid": "449d48c0-7ffe-42c0-8b7b-b6deb0daab98",
     "showTitle": false,
     "tableResultSettingsMap": {},
     "title": ""
    }
   },
   "outputs": [],
   "source": [
    "%sql\n",
    "select * from `hrcm-data-catalog`.silver.departments;"
   ]
  },
  {
   "cell_type": "code",
   "execution_count": 0,
   "metadata": {
    "application/vnd.databricks.v1+cell": {
     "cellMetadata": {
      "byteLimit": 2048000,
      "rowLimit": 10000
     },
     "inputWidgets": {},
     "nuid": "6e452b15-6d1f-4256-8e38-5187d453a99a",
     "showTitle": false,
     "tableResultSettingsMap": {},
     "title": ""
    }
   },
   "outputs": [],
   "source": [
    "df_silver = spark.sql(\"SELECT * FROM `hrcm-data-catalog`.silver.departments\")\n",
    "\n",
    "df_silver.write.format(\"delta\").mode(\"overwrite\").save(\"/mnt/silver/departments\")"
   ]
  }
 ],
 "metadata": {
  "application/vnd.databricks.v1+notebook": {
   "computePreferences": null,
   "dashboards": [],
   "environmentMetadata": {
    "base_environment": "",
    "environment_version": "2"
   },
   "language": "python",
   "notebookMetadata": {
    "mostRecentlyExecutedCommandWithImplicitDF": {
     "commandId": 7671575439399402,
     "dataframes": [
      "_sqldf"
     ]
    },
    "pythonIndentUnit": 4
   },
   "notebookName": "Departments_F",
   "widgets": {}
  },
  "language_info": {
   "name": "python"
  }
 },
 "nbformat": 4,
 "nbformat_minor": 0
}
