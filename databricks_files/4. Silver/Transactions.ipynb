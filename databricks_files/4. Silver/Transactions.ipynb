{
 "cells": [
  {
   "cell_type": "code",
   "execution_count": 0,
   "metadata": {
    "application/vnd.databricks.v1+cell": {
     "cellMetadata": {
      "byteLimit": 2048000,
      "rowLimit": 10000
     },
     "inputWidgets": {},
     "nuid": "e3556a2a-ba1e-41e1-9fac-7ad24f0565c5",
     "showTitle": false,
     "tableResultSettingsMap": {},
     "title": ""
    }
   },
   "outputs": [],
   "source": [
    "from pyspark.sql import SparkSession, functions as f\n",
    "\n",
    "df_hosa = spark.read.parquet(\"/mnt/bronze/hosa/transactions\")\n",
    "\n",
    "display(df_hosa)\n",
    "\n",
    "df_hosb = spark.read.parquet(\"/mnt/bronze/hosb/transactions\")\n",
    "\n",
    "display(df_hosb)"
   ]
  },
  {
   "cell_type": "code",
   "execution_count": 0,
   "metadata": {
    "application/vnd.databricks.v1+cell": {
     "cellMetadata": {
      "byteLimit": 2048000,
      "rowLimit": 10000
     },
     "inputWidgets": {},
     "nuid": "29f5e9cd-c01f-46d4-a49f-39461786aa8f",
     "showTitle": false,
     "tableResultSettingsMap": {},
     "title": ""
    }
   },
   "outputs": [],
   "source": [
    "df_merged = df_hosa.unionByName(df_hosb)\n",
    "df_merged.createOrReplaceTempView(\"transactions\")\n",
    "display(df_merged)"
   ]
  },
  {
   "cell_type": "code",
   "execution_count": 0,
   "metadata": {
    "application/vnd.databricks.v1+cell": {
     "cellMetadata": {
      "byteLimit": 2048000,
      "implicitDf": true,
      "rowLimit": 10000
     },
     "inputWidgets": {},
     "nuid": "572ddd98-0d74-44ff-8b5d-a56b0c87deae",
     "showTitle": false,
     "tableResultSettingsMap": {},
     "title": ""
    }
   },
   "outputs": [],
   "source": [
    "%sql \n",
    "create or replace temp view quality_check as \n",
    "select concat(TransactionID,'-',datasource) as TransactionID,\n",
    "TransactionID as SRC_TransactionID,\n",
    "EncounterID,\n",
    "PatientID,\n",
    "ProviderID,\n",
    "DeptID,\n",
    "VisitDate,\n",
    "ServiceDate,\n",
    "PaidDate,\n",
    "VisitType,\n",
    "Amount,\n",
    "AmountType,\n",
    "PaidAmount,\n",
    "ClaimID,\n",
    "PayorID,\n",
    "ProcedureCode,\n",
    "ICDCode,\n",
    "LineOfBusiness,\n",
    "MedicaidID,\n",
    "MedicareID,\n",
    "InsertDate as SRC_InsertDate,\n",
    "ModifiedDate as SRC_ModifiedDate,\n",
    "datasource,\n",
    "case when TransactionID is null or PatientID is null or EncounterID is null or VisitDate is null then true else false end as is_quarantined\n",
    "from transactions;\n"
   ]
  },
  {
   "cell_type": "code",
   "execution_count": 0,
   "metadata": {
    "application/vnd.databricks.v1+cell": {
     "cellMetadata": {
      "byteLimit": 2048000,
      "implicitDf": true,
      "rowLimit": 10000
     },
     "inputWidgets": {},
     "nuid": "ad734ece-112c-42ca-b6ee-a0de810da623",
     "showTitle": false,
     "tableResultSettingsMap": {},
     "title": ""
    }
   },
   "outputs": [],
   "source": [
    "%sql \n",
    "select * from quality_check\n",
    "order by is_quarantined desc;"
   ]
  },
  {
   "cell_type": "code",
   "execution_count": 0,
   "metadata": {
    "application/vnd.databricks.v1+cell": {
     "cellMetadata": {
      "byteLimit": 2048000,
      "implicitDf": true,
      "rowLimit": 10000
     },
     "inputWidgets": {},
     "nuid": "b2bfb26c-12b9-43b1-bec1-19c916944d56",
     "showTitle": false,
     "tableResultSettingsMap": {},
     "title": ""
    }
   },
   "outputs": [],
   "source": [
    "%sql\n",
    "create table if not exists `hrcm-data-catalog`.silver.transactions(\n",
    "  TransactionID string,\n",
    "  SRC_TransactionID string,\n",
    "  EncounterID string,\n",
    "  PatientID string,\n",
    "  ProviderID string,\n",
    "  DeptID string,\n",
    "  VisitDate date,\n",
    "  ServiceDate date,\n",
    "  PaidDate date,\n",
    "  VisitType string,\n",
    "  Amount double,\n",
    "  AmountType string,\n",
    "  PaidAmount double,\n",
    "  ClaimID string,\n",
    "  PayorID string,\n",
    "  ProcedureCode int,\n",
    "  ICDCode string,\n",
    "  LineOfBusiness string,\n",
    "  MedicaidID string,\n",
    "  MedicareID string,\n",
    "  SRC_InsertDate date,\n",
    "  SRC_ModifiedDate date,\n",
    "  datasource string,\n",
    "  is_quarantined boolean,\n",
    "  audit_insertdate timestamp,\n",
    "  audit_modifieddate timestamp,\n",
    "  is_current boolean\n",
    ")\n",
    "using delta;"
   ]
  },
  {
   "cell_type": "code",
   "execution_count": 0,
   "metadata": {
    "application/vnd.databricks.v1+cell": {
     "cellMetadata": {
      "byteLimit": 2048000,
      "implicitDf": true,
      "rowLimit": 10000
     },
     "inputWidgets": {},
     "nuid": "79189324-589d-42e3-9d24-e54768f251aa",
     "showTitle": false,
     "tableResultSettingsMap": {},
     "title": ""
    }
   },
   "outputs": [],
   "source": [
    "%sql\n",
    "---Update old record to implement SCD Type 2\n",
    "merge into `hrcm-data-catalog`.silver.transactions as target \n",
    "using quality_check as source \n",
    "on target.TransactionID = source.TransactionID\n",
    "and target.is_current = true\n",
    "when matched\n",
    "and (\n",
    "  target.SRC_TransactionID != source.SRC_TransactionID or\n",
    "  target.EncounterID != source.EncounterID or\n",
    "  target.PatientID != source.PatientID or\n",
    "  target.ProviderID != source.ProviderID or\n",
    "  target.DeptID != source.DeptID or\n",
    "  target.VisitDate != source.VisitDate or\n",
    "  target.ServiceDate != source.ServiceDate or\n",
    "  target.PaidDate != source.PaidDate or\n",
    "  target.VisitType != source.VisitType or\n",
    "  target.Amount != source.Amount or\n",
    "  target.AmountType != source.AmountType or\n",
    "  target.PaidAmount != source.PaidAmount or\n",
    "  target.ClaimID != source.ClaimID or\n",
    "  target.PayorID != source.PayorID or\n",
    "  target.ProcedureCode != source.ProcedureCode or\n",
    "  target.ICDCode != source.ICDCode or\n",
    "  target.LineOfBusiness != source.LineOfBusiness or\n",
    "  target.MedicaidID != source.MedicaidID or\n",
    "  target.MedicareID != source.MedicareID or\n",
    "  target.SRC_InsertDate != source.SRC_InsertDate or\n",
    "  target.SRC_ModifiedDate != source.SRC_ModifiedDate or\n",
    "  target.datasource != source.datasource or\n",
    "  target.is_quarantined != source.is_quarantined\n",
    ") \n",
    "then update \n",
    "set target.audit_modifieddate = current_timestamp(),\n",
    "    target.is_current = false"
   ]
  },
  {
   "cell_type": "code",
   "execution_count": 0,
   "metadata": {
    "application/vnd.databricks.v1+cell": {
     "cellMetadata": {
      "byteLimit": 2048000,
      "implicitDf": true,
      "rowLimit": 10000
     },
     "inputWidgets": {},
     "nuid": "1d4767c9-a721-4c2e-8328-a5dd83659b41",
     "showTitle": false,
     "tableResultSettingsMap": {},
     "title": ""
    }
   },
   "outputs": [],
   "source": [
    "%sql\n",
    "--- inserting new records SCD2\n",
    "merge into `hrcm-data-catalog`.silver.transactions as target \n",
    "using quality_check as source \n",
    "on target.TransactionID = source.TransactionID\n",
    "and target.is_current = true\n",
    "when not matched then\n",
    "insert (\n",
    "  target.TransactionID,\n",
    "  target.SRC_TransactionID,\n",
    "  target.EncounterID,\n",
    "  target.PatientID,\n",
    "  target.ProviderID,\n",
    "  target.DeptID,\n",
    "  target.VisitDate,\n",
    "  target.ServiceDate,\n",
    "  target.PaidDate,\n",
    "  target.VisitType,\n",
    "  target.Amount,\n",
    "  target.AmountType,\n",
    "  target.PaidAmount,\n",
    "  target.ClaimID,\n",
    "  target.PayorID,\n",
    "  target.ProcedureCode,\n",
    "  target.ICDCode,\n",
    "  target.LineOfBusiness,\n",
    "  target.MedicaidID,\n",
    "  target.MedicareID,\n",
    "  target.SRC_InsertDate,\n",
    "  target.SRC_ModifiedDate,\n",
    "  target.datasource,\n",
    "  target.is_quarantined,\n",
    "  target.audit_insertdate,\n",
    "  target.audit_modifieddate,\n",
    "  target.is_current\n",
    ") \n",
    "values(\n",
    "  source.TransactionID,\n",
    "  source.SRC_TransactionID,\n",
    "  source.EncounterID,\n",
    "  source.PatientID,\n",
    "  source.ProviderID,\n",
    "  source.DeptID,\n",
    "  source.VisitDate,\n",
    "  source.ServiceDate,\n",
    "  source.PaidDate,\n",
    "  source.VisitType,\n",
    "  source.Amount,\n",
    "  source.AmountType,\n",
    "  source.PaidAmount,\n",
    "  source.ClaimID,\n",
    "  source.PayorID,\n",
    "  source.ProcedureCode,\n",
    "  source.ICDCode,\n",
    "  source.LineOfBusiness,\n",
    "  source.MedicaidID,\n",
    "  source.MedicareID,\n",
    "  source.SRC_InsertDate,\n",
    "  source.SRC_ModifiedDate,\n",
    "  source.datasource,\n",
    "  source.is_quarantined,\n",
    "  current_timestamp(),\n",
    "  current_timestamp(),\n",
    "  true\n",
    ")\n"
   ]
  },
  {
   "cell_type": "code",
   "execution_count": 0,
   "metadata": {
    "application/vnd.databricks.v1+cell": {
     "cellMetadata": {
      "byteLimit": 2048000,
      "rowLimit": 10000
     },
     "inputWidgets": {},
     "nuid": "a633b33c-3b29-4295-8f49-48049a9499d8",
     "showTitle": false,
     "tableResultSettingsMap": {},
     "title": ""
    }
   },
   "outputs": [],
   "source": [
    "df_silver = spark.sql(\"select * from `hrcm-data-catalog`.silver.transactions\")\n",
    "\n",
    "df_silver.write.format(\"delta\").mode(\"overwrite\").save(\"/mnt/silver/transactions\")"
   ]
  }
 ],
 "metadata": {
  "application/vnd.databricks.v1+notebook": {
   "computePreferences": null,
   "dashboards": [],
   "environmentMetadata": {
    "base_environment": "",
    "environment_version": "2"
   },
   "language": "python",
   "notebookMetadata": {
    "mostRecentlyExecutedCommandWithImplicitDF": {
     "commandId": 7397243966034646,
     "dataframes": [
      "_sqldf"
     ]
    },
    "pythonIndentUnit": 4
   },
   "notebookName": "Transactions",
   "widgets": {}
  },
  "language_info": {
   "name": "python"
  }
 },
 "nbformat": 4,
 "nbformat_minor": 0
}
