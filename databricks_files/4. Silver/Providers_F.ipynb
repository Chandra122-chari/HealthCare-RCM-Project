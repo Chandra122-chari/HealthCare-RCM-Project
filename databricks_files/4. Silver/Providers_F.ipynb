{
 "cells": [
  {
   "cell_type": "code",
   "execution_count": 0,
   "metadata": {
    "application/vnd.databricks.v1+cell": {
     "cellMetadata": {
      "byteLimit": 2048000,
      "rowLimit": 10000
     },
     "inputWidgets": {},
     "nuid": "f5f6aa3c-9a43-4f69-8fff-3e1c87ef28f6",
     "showTitle": false,
     "tableResultSettingsMap": {},
     "title": ""
    }
   },
   "outputs": [],
   "source": [
    "from pyspark.sql import SparkSession, functions as f\n",
    "\n",
    "df_hosa = spark.read.parquet(\"/mnt/bronze/hosa/providers\")\n",
    "\n",
    "df_hosb = spark.read.parquet(\"/mnt/bronze/hosb/providers\")\n",
    "\n",
    "df_merged = df_hosa.unionByName(df_hosb)\n",
    "\n",
    "display(df_merged)\n",
    "\n",
    "df_merged.createOrReplaceTempView(\"providers\")\n",
    "\n"
   ]
  },
  {
   "cell_type": "code",
   "execution_count": 0,
   "metadata": {
    "application/vnd.databricks.v1+cell": {
     "cellMetadata": {
      "byteLimit": 2048000,
      "implicitDf": true,
      "rowLimit": 10000
     },
     "inputWidgets": {},
     "nuid": "78b4ddc0-f8ff-4187-a130-def5259319f9",
     "showTitle": false,
     "tableResultSettingsMap": {},
     "title": ""
    }
   },
   "outputs": [],
   "source": [
    "%sql\n",
    "use `hrcm-data-catalog`.silver;\n",
    "create table if not exists providers(\n",
    "  ProviderID string,\n",
    "  FirstName string,\n",
    "  LastName string,\n",
    "  Specialization string,\n",
    "  DeptID string,\n",
    "  NPI long,\n",
    "  datasource string,\n",
    "  is_quarantined boolean\n",
    ")\n",
    "using delta;"
   ]
  },
  {
   "cell_type": "code",
   "execution_count": 0,
   "metadata": {
    "application/vnd.databricks.v1+cell": {
     "cellMetadata": {
      "byteLimit": 2048000,
      "implicitDf": true,
      "rowLimit": 10000
     },
     "inputWidgets": {},
     "nuid": "77e29e95-4872-420b-a0a8-4a1240fe347b",
     "showTitle": false,
     "tableResultSettingsMap": {},
     "title": ""
    }
   },
   "outputs": [],
   "source": [
    "%sql\n",
    "\n",
    "truncate table `hrcm-data-catalog`.silver.providers;"
   ]
  },
  {
   "cell_type": "code",
   "execution_count": 0,
   "metadata": {
    "application/vnd.databricks.v1+cell": {
     "cellMetadata": {
      "byteLimit": 2048000,
      "implicitDf": true,
      "rowLimit": 10000
     },
     "inputWidgets": {},
     "nuid": "4d85cb0d-ca4f-4a46-915c-2bfdffd51efc",
     "showTitle": false,
     "tableResultSettingsMap": {},
     "title": ""
    }
   },
   "outputs": [],
   "source": [
    "%sql\n",
    "\n",
    "insert into silver.providers\n",
    "select \n",
    "  ProviderID,\n",
    "  FirstName,\n",
    "  LastName,\n",
    "  Specialization,\n",
    "  DeptID,\n",
    "  cast(NPI as int) NPI,\n",
    "  datasource,\n",
    "  case when ProviderID is null or DeptID is null then true else false end as is_quarantined\n",
    "  from providers;"
   ]
  },
  {
   "cell_type": "code",
   "execution_count": 0,
   "metadata": {
    "application/vnd.databricks.v1+cell": {
     "cellMetadata": {
      "byteLimit": 2048000,
      "rowLimit": 10000
     },
     "inputWidgets": {},
     "nuid": "ed0a5203-6706-4642-9e2d-d0fa19c27448",
     "showTitle": false,
     "tableResultSettingsMap": {},
     "title": ""
    }
   },
   "outputs": [],
   "source": [
    "df_silver = spark.sql(\"select * from `hrcm-data-catalog`.silver.providers\")\n",
    "\n",
    "df_silver.write.format(\"delta\").mode(\"overwrite\").save(\"/mnt/silver/providers\")"
   ]
  }
 ],
 "metadata": {
  "application/vnd.databricks.v1+notebook": {
   "computePreferences": null,
   "dashboards": [],
   "environmentMetadata": {
    "base_environment": "",
    "environment_version": "2"
   },
   "language": "python",
   "notebookMetadata": {
    "mostRecentlyExecutedCommandWithImplicitDF": {
     "commandId": 6858980553685350,
     "dataframes": [
      "_sqldf"
     ]
    },
    "pythonIndentUnit": 4
   },
   "notebookName": "Providers_F",
   "widgets": {}
  },
  "language_info": {
   "name": "python"
  }
 },
 "nbformat": 4,
 "nbformat_minor": 0
}
