{
 "cells": [
  {
   "cell_type": "code",
   "execution_count": 0,
   "metadata": {
    "application/vnd.databricks.v1+cell": {
     "cellMetadata": {
      "byteLimit": 2048000,
      "rowLimit": 10000
     },
     "inputWidgets": {},
     "nuid": "3f389001-e35f-4fad-9d41-94f69ff9f1d3",
     "showTitle": false,
     "tableResultSettingsMap": {},
     "title": ""
    }
   },
   "outputs": [],
   "source": [
    "from pyspark.sql import SparkSession, functions as f\n",
    "df_cpt = spark.read.parquet(\"/mnt/bronze/cptcodes\")\n",
    "df_cpt.createOrReplaceTempView('cpt_codes')\n",
    "display(df_cpt)\n"
   ]
  },
  {
   "cell_type": "code",
   "execution_count": 0,
   "metadata": {
    "application/vnd.databricks.v1+cell": {
     "cellMetadata": {
      "byteLimit": 2048000,
      "implicitDf": true,
      "rowLimit": 10000
     },
     "inputWidgets": {},
     "nuid": "f4a9ff2c-c89f-4426-bda0-38a6ab6ace00",
     "showTitle": false,
     "tableResultSettingsMap": {},
     "title": ""
    }
   },
   "outputs": [],
   "source": [
    "%sql \n",
    "create or replace temp view  quality_check as \n",
    "select \n",
    "cpt_codes,\n",
    "procedure_code_category,\n",
    "procedure_code_descriptions,\n",
    "code_status,\n",
    "case when cpt_codes is null or procedure_code_descriptions is null then true else false end as is_quarantined\n",
    "from cpt_codes;"
   ]
  },
  {
   "cell_type": "code",
   "execution_count": 0,
   "metadata": {
    "application/vnd.databricks.v1+cell": {
     "cellMetadata": {
      "byteLimit": 2048000,
      "implicitDf": true,
      "rowLimit": 10000
     },
     "inputWidgets": {},
     "nuid": "18197037-32ae-4cee-9219-9d532f8b0d30",
     "showTitle": false,
     "tableResultSettingsMap": {},
     "title": ""
    }
   },
   "outputs": [],
   "source": [
    "%sql\n",
    "select * from quality_check;"
   ]
  },
  {
   "cell_type": "code",
   "execution_count": 0,
   "metadata": {
    "application/vnd.databricks.v1+cell": {
     "cellMetadata": {
      "byteLimit": 2048000,
      "implicitDf": true,
      "rowLimit": 10000
     },
     "inputWidgets": {},
     "nuid": "79eba735-b4eb-44f5-a0ed-702651ba85f0",
     "showTitle": false,
     "tableResultSettingsMap": {},
     "title": ""
    }
   },
   "outputs": [],
   "source": [
    "%sql\n",
    "create table if not exists `hrcm-data-catalog`.silver.cptcodes(\n",
    "  cpt_code string,\n",
    "  procedure_code_category string,\n",
    "  procedure_code_descriptions string,\n",
    "  code_status string,\n",
    "  is_quarantined boolean,\n",
    "  audit_insertdate timestamp,\n",
    "  audit_modifieddate timestamp,\n",
    "  is_current boolean\n",
    ")\n",
    "using delta;"
   ]
  },
  {
   "cell_type": "code",
   "execution_count": 0,
   "metadata": {
    "application/vnd.databricks.v1+cell": {
     "cellMetadata": {
      "byteLimit": 2048000,
      "implicitDf": true,
      "rowLimit": 10000
     },
     "inputWidgets": {},
     "nuid": "95d85a15-68b9-4ed0-8ef3-331f32deb1b4",
     "showTitle": false,
     "tableResultSettingsMap": {},
     "title": ""
    }
   },
   "outputs": [],
   "source": [
    "%sql\n",
    "merge into `hrcm-data-catalog`.silver.cptcodes as target\n",
    "using quality_check as source\n",
    "on target.cpt_code = source.cpt_codes\n",
    "and is_current = true\n",
    "when matched and(\n",
    "  target.procedure_code_category != source.procedure_code_category or\n",
    "  target.procedure_code_descriptions != source.procedure_code_descriptions or\n",
    "  target.code_status != source.code_status or\n",
    "  target.is_quarantined != source.is_quarantined\n",
    ")\n",
    "then update \n",
    "set target.is_current = false,\n",
    "    target.audit_modifieddate = current_timestamp()"
   ]
  },
  {
   "cell_type": "code",
   "execution_count": 0,
   "metadata": {
    "application/vnd.databricks.v1+cell": {
     "cellMetadata": {
      "byteLimit": 2048000,
      "implicitDf": true,
      "rowLimit": 10000
     },
     "inputWidgets": {},
     "nuid": "8f4f3e42-2e43-4437-ae95-ae96ff8b7b41",
     "showTitle": false,
     "tableResultSettingsMap": {},
     "title": ""
    }
   },
   "outputs": [],
   "source": [
    "%sql\n",
    "merge into `hrcm-data-catalog`.silver.cptcodes as target\n",
    "using quality_check as source\n",
    "on target.cpt_code = source.cpt_codes\n",
    "and is_current = true\n",
    "when not matched then insert(\n",
    "  target.cpt_code,\n",
    "  target.procedure_code_category,\n",
    "  target.procedure_code_descriptions,\n",
    "  target.code_status,\n",
    "  target.is_quarantined,\n",
    "  target.audit_insertdate,\n",
    "  target.audit_modifieddate,\n",
    "  target.is_current\n",
    ") values(\n",
    "  source.cpt_codes,\n",
    "  source.procedure_code_category,\n",
    "  source.procedure_code_descriptions,\n",
    "  source.code_status,\n",
    "  source.is_quarantined,\n",
    "  current_timestamp(),\n",
    "  current_timestamp(),\n",
    "  true\n",
    ")"
   ]
  },
  {
   "cell_type": "code",
   "execution_count": 0,
   "metadata": {
    "application/vnd.databricks.v1+cell": {
     "cellMetadata": {
      "byteLimit": 2048000,
      "rowLimit": 10000
     },
     "inputWidgets": {},
     "nuid": "c82c0088-46c3-464c-9931-6b291b1bda0e",
     "showTitle": false,
     "tableResultSettingsMap": {},
     "title": ""
    }
   },
   "outputs": [],
   "source": [
    "df_silver = spark.sql(\"select * from `hrcm-data-catalog`.silver.cptcodes\")\n",
    "\n",
    "df_silver.write.format(\"delta\").mode(\"overwrite\").save(\"/mnt/silver/cptcodes\")"
   ]
  }
 ],
 "metadata": {
  "application/vnd.databricks.v1+notebook": {
   "computePreferences": null,
   "dashboards": [],
   "environmentMetadata": {
    "base_environment": "",
    "environment_version": "2"
   },
   "language": "python",
   "notebookMetadata": {
    "mostRecentlyExecutedCommandWithImplicitDF": {
     "commandId": 5565072801695713,
     "dataframes": [
      "_sqldf"
     ]
    },
    "pythonIndentUnit": 4
   },
   "notebookName": "CPT codes",
   "widgets": {}
  },
  "language_info": {
   "name": "python"
  }
 },
 "nbformat": 4,
 "nbformat_minor": 0
}
