{
 "cells": [
  {
   "cell_type": "code",
   "execution_count": 0,
   "metadata": {
    "application/vnd.databricks.v1+cell": {
     "cellMetadata": {
      "byteLimit": 2048000,
      "rowLimit": 10000
     },
     "inputWidgets": {},
     "nuid": "bdca06c8-6ee4-467b-9a49-3d758e6102ba",
     "showTitle": false,
     "tableResultSettingsMap": {},
     "title": ""
    }
   },
   "outputs": [],
   "source": [
    "from pyspark.sql import SparkSession, functions as f\n",
    "\n",
    "df_hosa = spark.read.parquet(\"/mnt/bronze/hosa/encounters\")\n",
    "display(df_hosa)\n",
    "df_hosb = spark.read.parquet(\"/mnt/bronze/hosb/encounters\")\n",
    "display(df_hosb)\n"
   ]
  },
  {
   "cell_type": "code",
   "execution_count": 0,
   "metadata": {
    "application/vnd.databricks.v1+cell": {
     "cellMetadata": {
      "byteLimit": 2048000,
      "rowLimit": 10000
     },
     "inputWidgets": {},
     "nuid": "0fc614c7-175a-417b-832f-d1dd68c83ff1",
     "showTitle": false,
     "tableResultSettingsMap": {},
     "title": ""
    }
   },
   "outputs": [],
   "source": [
    "df_merged = df_hosa.unionByName(df_hosb)\n",
    "df_merged.createOrReplaceTempView(\"encounters\")"
   ]
  },
  {
   "cell_type": "code",
   "execution_count": 0,
   "metadata": {
    "application/vnd.databricks.v1+cell": {
     "cellMetadata": {
      "byteLimit": 2048000,
      "implicitDf": true,
      "rowLimit": 10000
     },
     "inputWidgets": {},
     "nuid": "fbe14954-082e-48cf-8693-9756f7c19f1c",
     "showTitle": false,
     "tableResultSettingsMap": {},
     "title": ""
    }
   },
   "outputs": [],
   "source": [
    "%sql\n",
    "select * from encounters;"
   ]
  },
  {
   "cell_type": "code",
   "execution_count": 0,
   "metadata": {
    "application/vnd.databricks.v1+cell": {
     "cellMetadata": {
      "byteLimit": 2048000,
      "implicitDf": true,
      "rowLimit": 10000
     },
     "inputWidgets": {},
     "nuid": "d59620cf-e0de-4f0c-b007-2397b9090648",
     "showTitle": false,
     "tableResultSettingsMap": {},
     "title": ""
    }
   },
   "outputs": [],
   "source": [
    "%sql\n",
    "create or replace temp view quality_check as \n",
    "select concat(EncounterID,'-',datasource) as EncounterID,\n",
    "EncounterID SRC_EncounterID,\n",
    "PatientID,\n",
    "EncounterDate,\n",
    "EncounterType,\n",
    "ProviderID,\n",
    "DepartmentID,\n",
    "ProcedureCode,\n",
    "InsertedDate SRC_InsertedDate,\n",
    "ModifiedDate SRC_ModifiedDate,\n",
    "datasource,\n",
    "case when EncounterID is null or PatientID is null then true else false end as is_quarantined\n",
    "from encounters;\n"
   ]
  },
  {
   "cell_type": "code",
   "execution_count": 0,
   "metadata": {
    "application/vnd.databricks.v1+cell": {
     "cellMetadata": {
      "byteLimit": 2048000,
      "implicitDf": true,
      "rowLimit": 10000
     },
     "inputWidgets": {},
     "nuid": "2e89201b-f9b0-4425-8ba6-36d4e3acbf5a",
     "showTitle": false,
     "tableResultSettingsMap": {},
     "title": ""
    }
   },
   "outputs": [],
   "source": [
    "%sql\n",
    "select * from quality_check;"
   ]
  },
  {
   "cell_type": "code",
   "execution_count": 0,
   "metadata": {
    "application/vnd.databricks.v1+cell": {
     "cellMetadata": {
      "byteLimit": 2048000,
      "implicitDf": true,
      "rowLimit": 10000
     },
     "inputWidgets": {},
     "nuid": "4ee80be1-8622-4952-ad3c-1ff5ac4fb312",
     "showTitle": false,
     "tableResultSettingsMap": {},
     "title": ""
    }
   },
   "outputs": [],
   "source": [
    "%sql\n",
    "create table if not exists `hrcm-data-catalog`.silver.encounters(\n",
    "  EncounterID string,\n",
    "  SRC_EncounterID string,\n",
    "  PatientID string,\n",
    "  EncounterDate date,\n",
    "  EncounterType string,\n",
    "  ProviderID string,\n",
    "  DepartmentID string,\n",
    "  ProcedureCode integer,\n",
    "  SRC_InsertedDate date,\n",
    "  SRC_ModifiedDate date,\n",
    "  datasource string,\n",
    "  is_quarantined boolean,\n",
    "  audit_inserteddate timestamp,\n",
    "  audit_modifieddate timestamp,\n",
    "  is_current boolean\n",
    ") using delta;"
   ]
  },
  {
   "cell_type": "code",
   "execution_count": 0,
   "metadata": {
    "application/vnd.databricks.v1+cell": {
     "cellMetadata": {
      "byteLimit": 2048000,
      "implicitDf": true,
      "rowLimit": 10000
     },
     "inputWidgets": {},
     "nuid": "db603e9f-f777-4130-ad44-292a4e87fcea",
     "showTitle": false,
     "tableResultSettingsMap": {},
     "title": ""
    }
   },
   "outputs": [],
   "source": [
    "%sql \n",
    "-- implementing scd2 old record update\n",
    "merge into `hrcm-data-catalog`.silver.encounters as target\n",
    "using quality_check as source\n",
    "on target.EncounterID = source.EncounterID\n",
    "and target.is_current = true\n",
    "when matched and(\n",
    "  target.SRC_EncounterID != source.SRC_EncounterID or\n",
    "  target.PatientID != source.PatientID or\n",
    "  target.EncounterDate != source.EncounterDate or\n",
    "  target.EncounterType != source.EncounterType or\n",
    "  target.ProviderID != source.ProviderID or\n",
    "  target.DepartmentID != source.DepartmentID or\n",
    "  target.ProcedureCode != source.ProcedureCode or\n",
    "  target.SRC_InsertedDate != source.SRC_InsertedDate or\n",
    "  target.SRC_ModifiedDate != source.SRC_ModifiedDate or\n",
    "  target.datasource != source.datasource or\n",
    "  target.is_quarantined != source.is_quarantined\n",
    ")\n",
    "then update \n",
    "set target.is_current = false,\n",
    "    target.audit_modifieddate = current_timestamp()"
   ]
  },
  {
   "cell_type": "code",
   "execution_count": 0,
   "metadata": {
    "application/vnd.databricks.v1+cell": {
     "cellMetadata": {
      "byteLimit": 2048000,
      "implicitDf": true,
      "rowLimit": 10000
     },
     "inputWidgets": {},
     "nuid": "0f337eae-c490-4340-ae04-720a6035c8e6",
     "showTitle": false,
     "tableResultSettingsMap": {},
     "title": ""
    }
   },
   "outputs": [],
   "source": [
    "%sql \n",
    "merge into `hrcm-data-catalog`.silver.encounters as target\n",
    "using quality_check as source \n",
    "on target.EncounterID = source.EncounterID\n",
    "and target.is_current = true\n",
    "when not matched \n",
    "then insert (\n",
    "  target.EncounterID,\n",
    "  target.SRC_EncounterID,\n",
    "  target.PatientID,\n",
    "  target.EncounterDate,\n",
    "  target.EncounterType,\n",
    "  target.ProviderID,\n",
    "  target.DepartmentID,\n",
    "  target.ProcedureCode,\n",
    "  target.SRC_InsertedDate,\n",
    "  target.SRC_ModifiedDate,\n",
    "  target.datasource,\n",
    "  target.is_quarantined,\n",
    "  target.audit_inserteddate,\n",
    "  target.audit_modifieddate,\n",
    "  target.is_current\n",
    ") values (\n",
    "  source.EncounterID,\n",
    "  source.SRC_EncounterID,\n",
    "  source.PatientID,\n",
    "  source.EncounterDate,\n",
    "  source.EncounterType,\n",
    "  source.ProviderID,\n",
    "  source.DepartmentID,\n",
    "  source.ProcedureCode,\n",
    "  source.SRC_InsertedDate,\n",
    "  source.SRC_ModifiedDate,\n",
    "  source.datasource,\n",
    "  source.is_quarantined,\n",
    "  current_timestamp(),\n",
    "  current_timestamp(),\n",
    "  true\n",
    ")"
   ]
  },
  {
   "cell_type": "code",
   "execution_count": 0,
   "metadata": {
    "application/vnd.databricks.v1+cell": {
     "cellMetadata": {
      "byteLimit": 2048000,
      "rowLimit": 10000
     },
     "inputWidgets": {},
     "nuid": "5007abef-2951-4564-a9a9-be681d231f5f",
     "showTitle": false,
     "tableResultSettingsMap": {},
     "title": ""
    }
   },
   "outputs": [],
   "source": [
    "df_silver = spark.sql(\"SELECT * FROM `hrcm-data-catalog`.silver.encounters\")\n",
    "df_silver.write.format(\"delta\").mode(\"overwrite\").save(\"/mnt/silver/encounters\")"
   ]
  }
 ],
 "metadata": {
  "application/vnd.databricks.v1+notebook": {
   "computePreferences": null,
   "dashboards": [],
   "environmentMetadata": {
    "base_environment": "",
    "environment_version": "2"
   },
   "language": "python",
   "notebookMetadata": {
    "mostRecentlyExecutedCommandWithImplicitDF": {
     "commandId": 4932010651907484,
     "dataframes": [
      "_sqldf"
     ]
    },
    "pythonIndentUnit": 4
   },
   "notebookName": "Encounters",
   "widgets": {}
  },
  "language_info": {
   "name": "python"
  }
 },
 "nbformat": 4,
 "nbformat_minor": 0
}
