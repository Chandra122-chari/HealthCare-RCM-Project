{
 "cells": [
  {
   "cell_type": "code",
   "execution_count": 0,
   "metadata": {
    "application/vnd.databricks.v1+cell": {
     "cellMetadata": {
      "byteLimit": 2048000,
      "rowLimit": 10000
     },
     "inputWidgets": {},
     "nuid": "eca8fb8a-19ed-489e-bef0-0e21418c730c",
     "showTitle": false,
     "tableResultSettingsMap": {},
     "title": ""
    }
   },
   "outputs": [],
   "source": [
    "from pyspark.sql import SparkSession, functions as f\n",
    "df_hosa = spark.read.parquet(\"/mnt/bronze/hosa/patients\")\n",
    "df_hosa.createOrReplaceTempView(\"patients_hosa\")\n",
    "\n",
    "df_hosb = spark.read.parquet(\"/mnt/bronze/hosb/patients\")\n",
    "df_hosb.createOrReplaceTempView(\"patients_hosb\")"
   ]
  },
  {
   "cell_type": "code",
   "execution_count": 0,
   "metadata": {
    "application/vnd.databricks.v1+cell": {
     "cellMetadata": {
      "byteLimit": 2048000,
      "implicitDf": true,
      "rowLimit": 10000
     },
     "inputWidgets": {},
     "nuid": "c97606ba-d727-43c9-a22b-f67e9c91c9da",
     "showTitle": false,
     "tableResultSettingsMap": {},
     "title": ""
    }
   },
   "outputs": [],
   "source": [
    "%sql\n",
    "select * from patients_hosa;"
   ]
  },
  {
   "cell_type": "code",
   "execution_count": 0,
   "metadata": {
    "application/vnd.databricks.v1+cell": {
     "cellMetadata": {
      "byteLimit": 2048000,
      "implicitDf": true,
      "rowLimit": 10000
     },
     "inputWidgets": {},
     "nuid": "8c20630c-526c-4989-b9f4-1891dd7fbab5",
     "showTitle": false,
     "tableResultSettingsMap": {},
     "title": ""
    }
   },
   "outputs": [],
   "source": [
    "%sql\n",
    "select * from patients_hosb;"
   ]
  },
  {
   "cell_type": "code",
   "execution_count": 0,
   "metadata": {
    "application/vnd.databricks.v1+cell": {
     "cellMetadata": {
      "byteLimit": 2048000,
      "implicitDf": true,
      "rowLimit": 10000
     },
     "inputWidgets": {},
     "nuid": "d6ef4690-f7b5-4a78-8f06-ba889f6a133e",
     "showTitle": false,
     "tableResultSettingsMap": {},
     "title": ""
    }
   },
   "outputs": [],
   "source": [
    "%sql\n",
    "CREATE OR REPLACE TEMP VIEW cdm_patients AS\n",
    "SELECT CONCAT(SRC_PatientID,'-',datasource) AS Patient_Key, *\n",
    "FROM (\n",
    "  SELECT \n",
    "  PatientID AS SRC_PatientID,\n",
    "  FirstName,\n",
    "  LastName,\n",
    "  MiddleName,\n",
    "  SSN,\n",
    "  PhoneNumber,\n",
    "  Gender,\n",
    "  DOB,\n",
    "  Address,\n",
    "  ModifiedDate,\n",
    "  datasource FROM patients_hosa\n",
    "  UNION ALL\n",
    "  SELECT\n",
    "  ID as SRC_PatientID,\n",
    "  F_Name AS FirstName,\n",
    "  L_Name AS LastName,\n",
    "  M_Name AS MiddleName,\n",
    "  SSN,\n",
    "  PhoneNumber,\n",
    "  Gender,\n",
    "  DOB,\n",
    "  Address,\n",
    "  Updated_Date,\n",
    "  datasource FROM patients_hosb \n",
    ");"
   ]
  },
  {
   "cell_type": "code",
   "execution_count": 0,
   "metadata": {
    "application/vnd.databricks.v1+cell": {
     "cellMetadata": {
      "byteLimit": 2048000,
      "implicitDf": true,
      "rowLimit": 10000
     },
     "inputWidgets": {},
     "nuid": "3cb0637e-81c8-45cc-9fcb-c45367d07144",
     "showTitle": false,
     "tableResultSettingsMap": {},
     "title": ""
    }
   },
   "outputs": [],
   "source": [
    "%sql\n",
    "SELECT * FROM cdm_patients;"
   ]
  },
  {
   "cell_type": "code",
   "execution_count": 0,
   "metadata": {
    "application/vnd.databricks.v1+cell": {
     "cellMetadata": {
      "byteLimit": 2048000,
      "implicitDf": true,
      "rowLimit": 10000
     },
     "inputWidgets": {},
     "nuid": "bd85feb2-fb72-4e6c-a00d-1471613f0bb9",
     "showTitle": false,
     "tableResultSettingsMap": {},
     "title": ""
    }
   },
   "outputs": [],
   "source": [
    "%sql\n",
    "CREATE OR REPLACE TEMP VIEW quality_check AS\n",
    "SELECT \n",
    "Patient_Key,\n",
    "SRC_PatientID,\n",
    "FirstName,\n",
    "LastName,\n",
    "MiddleName,\n",
    "SSN,\n",
    "PhoneNumber,\n",
    "Gender,\n",
    "DOB,\n",
    "Address,\n",
    "ModifiedDate,\n",
    "datasource,\n",
    "CASE WHEN SRC_PatientID IS NULL OR DOB IS NULL OR FirstName IS NULL OR lower(FirstName) = 'null' THEN TRUE ELSE FALSE END AS is_quarantined\n",
    "FROM cdm_patients;"
   ]
  },
  {
   "cell_type": "code",
   "execution_count": 0,
   "metadata": {
    "application/vnd.databricks.v1+cell": {
     "cellMetadata": {
      "byteLimit": 2048000,
      "implicitDf": true,
      "rowLimit": 10000
     },
     "inputWidgets": {},
     "nuid": "c7804ddd-4964-434f-9b26-377ab1b3c213",
     "showTitle": false,
     "tableResultSettingsMap": {},
     "title": ""
    }
   },
   "outputs": [],
   "source": [
    "%sql\n",
    "CREATE TABLE IF NOT EXISTS `hrcm-data-catalog`.silver.patients(\n",
    "Patient_Key STRING,\n",
    "SRC_PatientID STRING,\n",
    "FirstName STRING,\n",
    "LastName STRING,\n",
    "MiddleName STRING,\n",
    "SSN STRING,\n",
    "PhoneNumber STRING,\n",
    "Gender STRING,\n",
    "DOB DATE,\n",
    "Address STRING,\n",
    "SRC_ModifiedDate TIMESTAMP,\n",
    "datasource STRING,\n",
    "is_quarantined BOOLEAN,\n",
    "InsertedDate TIMESTAMP,\n",
    "ModifiedDate TIMESTAMP,\n",
    "is_current BOOLEAN\n",
    ")\n",
    "USING DELTA;"
   ]
  },
  {
   "cell_type": "code",
   "execution_count": 0,
   "metadata": {
    "application/vnd.databricks.v1+cell": {
     "cellMetadata": {
      "byteLimit": 2048000,
      "implicitDf": true,
      "rowLimit": 10000
     },
     "inputWidgets": {},
     "nuid": "21edcbc7-d4ff-4ae9-aa4f-464807102fe9",
     "showTitle": false,
     "tableResultSettingsMap": {},
     "title": ""
    }
   },
   "outputs": [],
   "source": [
    "%sql\n",
    "merge into `hrcm-data-catalog`.silver.patients as target\n",
    "using quality_check as source\n",
    "on target.Patient_Key = source.Patient_Key\n",
    "and target.is_current = true\n",
    "when matched \n",
    "and (\n",
    "  target.SRC_PatientID != source.SRC_PatientID or\n",
    "  target.FirstName != source.FirstName or\n",
    "  target.LastName != source.LastName or\n",
    "  target.MiddleName != source.MiddleName or\n",
    "  target.SSN != source.SSN or\n",
    "  target.PhoneNumber != source.PhoneNumber or\n",
    "  target.Gender != source.Gender or\n",
    "  target.DOB != source.DOB or\n",
    "  target.Address != source.Address or\n",
    "  target.SRC_ModifiedDate != source.ModifiedDate or\n",
    "  target.datasource != source.datasource or\n",
    "  target.is_quarantined != source.is_quarantined\n",
    ")\n",
    "then update \n",
    "set is_current = false,\n",
    "    ModifiedDate = current_timestamp()\n",
    "when not matched\n",
    "then insert (\n",
    "  target.Patient_Key,\n",
    "  target.SRC_PatientID,\n",
    "  target.FirstName,\n",
    "  target.LastName,\n",
    "  target.MiddleName,\n",
    "  target.SSN,\n",
    "  target.PhoneNumber,\n",
    "  target.Gender,\n",
    "  target.DOB,\n",
    "  target.Address,\n",
    "  target.SRC_ModifiedDate,\n",
    "  target.datasource,\n",
    "  target.is_quarantined,\n",
    "  target.InsertedDate,\n",
    "  target.ModifiedDate,\n",
    "  target.is_current\n",
    ")\n",
    "Values(\n",
    "  source.Patient_Key,\n",
    "  source.SRC_PatientID,\n",
    "  source.FirstName,\n",
    "  source.LastName,\n",
    "  source.MiddleName,\n",
    "  source.SSN,\n",
    "  source.PhoneNumber,\n",
    "  source.Gender,\n",
    "  source.DOB,\n",
    "  source.Address,\n",
    "  source.ModifiedDate,\n",
    "  source.datasource,\n",
    "  source.is_quarantined,\n",
    "  current_timestamp(),\n",
    "  current_timestamp(),\n",
    "  true\n",
    ")\n"
   ]
  },
  {
   "cell_type": "code",
   "execution_count": 0,
   "metadata": {
    "application/vnd.databricks.v1+cell": {
     "cellMetadata": {
      "byteLimit": 2048000,
      "implicitDf": true,
      "rowLimit": 10000
     },
     "inputWidgets": {},
     "nuid": "6b9c479c-2b56-433f-bed5-7e96db72d1a1",
     "showTitle": false,
     "tableResultSettingsMap": {},
     "title": ""
    }
   },
   "outputs": [],
   "source": [
    "%sql\n",
    "merge into `hrcm-data-catalog`.silver.patients as target\n",
    "using quality_check as source\n",
    "on target.Patient_Key = source.Patient_Key\n",
    "and target.is_current = true\n",
    "when not matched\n",
    "then insert (\n",
    "  target.Patient_Key,\n",
    "  target.SRC_PatientID,\n",
    "  target.FirstName,\n",
    "  target.LastName,\n",
    "  target.MiddleName,\n",
    "  target.SSN,\n",
    "  target.PhoneNumber,\n",
    "  target.Gender,\n",
    "  target.DOB,\n",
    "  target.Address,\n",
    "  target.SRC_ModifiedDate,\n",
    "  target.datasource,\n",
    "  target.is_quarantined,\n",
    "  target.InsertedDate,\n",
    "  target.ModifiedDate,\n",
    "  target.is_current\n",
    ")\n",
    "Values(\n",
    "  source.Patient_Key,\n",
    "  source.SRC_PatientID,\n",
    "  source.FirstName,\n",
    "  source.LastName,\n",
    "  source.MiddleName,\n",
    "  source.SSN,\n",
    "  source.PhoneNumber,\n",
    "  source.Gender,\n",
    "  source.DOB,\n",
    "  source.Address,\n",
    "  source.ModifiedDate,\n",
    "  source.datasource,\n",
    "  source.is_quarantined,\n",
    "  current_timestamp(),\n",
    "  current_timestamp(),\n",
    "  true\n",
    ")"
   ]
  },
  {
   "cell_type": "code",
   "execution_count": 0,
   "metadata": {
    "application/vnd.databricks.v1+cell": {
     "cellMetadata": {
      "byteLimit": 2048000,
      "implicitDf": true,
      "rowLimit": 10000
     },
     "inputWidgets": {},
     "nuid": "f1b78cd8-f774-41d5-9cd9-a75b72225f30",
     "showTitle": false,
     "tableResultSettingsMap": {},
     "title": ""
    }
   },
   "outputs": [],
   "source": [
    "df_silver = spark.sql(\"select * from `hrcm-data-catalog`.silver.patients\")\n",
    "\n",
    "df_silver.write.format(\"delta\").mode(\"overwrite\").save(\"/mnt/silver/patients\")"
   ]
  }
 ],
 "metadata": {
  "application/vnd.databricks.v1+notebook": {
   "computePreferences": null,
   "dashboards": [],
   "environmentMetadata": {
    "base_environment": "",
    "environment_version": "2"
   },
   "language": "python",
   "notebookMetadata": {
    "mostRecentlyExecutedCommandWithImplicitDF": {
     "commandId": -1,
     "dataframes": [
      "_sqldf"
     ]
    },
    "pythonIndentUnit": 4
   },
   "notebookName": "Patients",
   "widgets": {}
  },
  "language_info": {
   "name": "python"
  }
 },
 "nbformat": 4,
 "nbformat_minor": 0
}
