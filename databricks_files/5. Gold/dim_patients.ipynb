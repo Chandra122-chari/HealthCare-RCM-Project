{
 "cells": [
  {
   "cell_type": "code",
   "execution_count": 0,
   "metadata": {
    "application/vnd.databricks.v1+cell": {
     "cellMetadata": {
      "byteLimit": 2048000,
      "implicitDf": true,
      "rowLimit": 10000
     },
     "inputWidgets": {},
     "nuid": "1302ebf6-7033-4acd-bd47-f27e7e71a7c0",
     "showTitle": false,
     "tableResultSettingsMap": {},
     "title": ""
    }
   },
   "outputs": [],
   "source": [
    "%sql\n",
    "use catalog `hrcm-data-catalog`;"
   ]
  },
  {
   "cell_type": "code",
   "execution_count": 0,
   "metadata": {
    "application/vnd.databricks.v1+cell": {
     "cellMetadata": {
      "byteLimit": 2048000,
      "implicitDf": true,
      "rowLimit": 10000
     },
     "inputWidgets": {},
     "nuid": "5dc2f8e1-7736-419b-8068-d48d602d9a51",
     "showTitle": false,
     "tableResultSettingsMap": {},
     "title": ""
    }
   },
   "outputs": [],
   "source": [
    "%sql\n",
    "create table if not exists gold.dim_patients (\n",
    "  Patient_Key STRING,\n",
    "  SRC_PatientID STRING,\n",
    "  FirstName STRING,\n",
    "  LastName STRING,\n",
    "  MiddleName STRING,\n",
    "  SSN STRING,\n",
    "  PhoneNumber STRING,\n",
    "  Gender STRING,\n",
    "  DOB DATE,\n",
    "  Address STRING,\n",
    "  datasource STRING\n",
    "  )"
   ]
  },
  {
   "cell_type": "code",
   "execution_count": 0,
   "metadata": {
    "application/vnd.databricks.v1+cell": {
     "cellMetadata": {
      "byteLimit": 2048000,
      "implicitDf": true,
      "rowLimit": 10000
     },
     "inputWidgets": {},
     "nuid": "7a5efbae-612a-440b-a281-56d356e222e6",
     "showTitle": false,
     "tableResultSettingsMap": {},
     "title": ""
    }
   },
   "outputs": [],
   "source": [
    "%sql\n",
    "truncate table gold.dim_patients;"
   ]
  },
  {
   "cell_type": "code",
   "execution_count": 0,
   "metadata": {
    "application/vnd.databricks.v1+cell": {
     "cellMetadata": {
      "byteLimit": 2048000,
      "implicitDf": true,
      "rowLimit": 10000
     },
     "inputWidgets": {},
     "nuid": "693b873e-c005-4a4e-937d-de1df59128ae",
     "showTitle": false,
     "tableResultSettingsMap": {},
     "title": ""
    }
   },
   "outputs": [],
   "source": [
    "%sql\n",
    "insert into gold.dim_patients\n",
    "select\n",
    "  Patient_Key,\n",
    "  SRC_PatientID,\n",
    "  FirstName,\n",
    "  LastName,\n",
    "  MiddleName,\n",
    "  SSN,\n",
    "  PhoneNumber,\n",
    "  Gender,\n",
    "  DOB,\n",
    "  Address,\n",
    "  datasource\n",
    "from silver.patients\n",
    "where is_current = true and is_quarantined = false;"
   ]
  }
 ],
 "metadata": {
  "application/vnd.databricks.v1+notebook": {
   "computePreferences": null,
   "dashboards": [],
   "environmentMetadata": {
    "base_environment": "",
    "environment_version": "2"
   },
   "language": "python",
   "notebookMetadata": {
    "mostRecentlyExecutedCommandWithImplicitDF": {
     "commandId": 5994675644055359,
     "dataframes": [
      "_sqldf"
     ]
    },
    "pythonIndentUnit": 4
   },
   "notebookName": "dim_patients",
   "widgets": {}
  },
  "language_info": {
   "name": "python"
  }
 },
 "nbformat": 4,
 "nbformat_minor": 0
}
