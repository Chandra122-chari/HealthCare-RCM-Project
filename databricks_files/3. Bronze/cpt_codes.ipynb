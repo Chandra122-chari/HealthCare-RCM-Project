{
 "cells": [
  {
   "cell_type": "code",
   "execution_count": 0,
   "metadata": {
    "application/vnd.databricks.v1+cell": {
     "cellMetadata": {
      "byteLimit": 2048000,
      "rowLimit": 10000
     },
     "inputWidgets": {},
     "nuid": "7f0f1b2e-3eb2-4d0b-81da-b6d47cbbc5a7",
     "showTitle": false,
     "tableResultSettingsMap": {},
     "title": ""
    }
   },
   "outputs": [],
   "source": [
    "from pyspark.sql import SparkSession, functions as f\n",
    "\n",
    "# reading the file from landing mount\n",
    "cptcodes_df = spark.read.csv(\"/mnt/landing/cpt codes/*.csv\", header=True)\n",
    "\n",
    "for col in cptcodes_df.columns:\n",
    "    new_col = col.replace(\" \", \"_\").lower()\n",
    "    cptcodes_df = cptcodes_df.withColumnRenamed(col, new_col)\n",
    "\n",
    "cptcodes_df.createOrReplaceTempView(\"cptcodes\")\n",
    "display(cptcodes_df)\n"
   ]
  },
  {
   "cell_type": "code",
   "execution_count": 0,
   "metadata": {
    "application/vnd.databricks.v1+cell": {
     "cellMetadata": {
      "byteLimit": 2048000,
      "rowLimit": 10000
     },
     "inputWidgets": {},
     "nuid": "80f7c1ce-e20b-4d97-adc7-3fcb31bd0481",
     "showTitle": false,
     "tableResultSettingsMap": {},
     "title": ""
    }
   },
   "outputs": [],
   "source": [
    "cptcodes_df.write.mode(\"overwrite\").parquet(\"/mnt/bronze/cptcodes/\")"
   ]
  },
  {
   "cell_type": "code",
   "execution_count": 0,
   "metadata": {
    "application/vnd.databricks.v1+cell": {
     "cellMetadata": {},
     "inputWidgets": {},
     "nuid": "7b54a15c-94a7-4b9e-bf94-08b5a8f2e93b",
     "showTitle": false,
     "tableResultSettingsMap": {},
     "title": ""
    }
   },
   "outputs": [],
   "source": []
  }
 ],
 "metadata": {
  "application/vnd.databricks.v1+notebook": {
   "computePreferences": null,
   "dashboards": [],
   "environmentMetadata": {
    "base_environment": "",
    "environment_version": "2"
   },
   "language": "python",
   "notebookMetadata": {
    "pythonIndentUnit": 4
   },
   "notebookName": "cpt_codes",
   "widgets": {}
  },
  "language_info": {
   "name": "python"
  }
 },
 "nbformat": 4,
 "nbformat_minor": 0
}
